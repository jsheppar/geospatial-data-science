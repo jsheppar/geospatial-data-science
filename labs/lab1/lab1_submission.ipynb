{
 "cells": [
  {
   "cell_type": "markdown",
   "id": "0ee2f1d4-2d68-4e0b-8035-8706aecc009f",
   "metadata": {},
   "source": [
    "### Task 1 (10 points):\n",
    "Edit the short script above slightly and copy and paste it to the new answers notebook. Run the cell one last time to make sure your code has no errors. "
   ]
  },
  {
   "cell_type": "code",
   "execution_count": 2,
   "id": "95fc58d8-5b05-4807-aa26-229b70cbe8fe",
   "metadata": {},
   "outputs": [
    {
     "name": "stdout",
     "output_type": "stream",
     "text": [
      "10\n"
     ]
    }
   ],
   "source": [
    "import numpy as np\n",
    "a = 3\n",
    "b = 2\n",
    "c = 4\n",
    "d = np.multiply(a, b) + c\n",
    "print(d)"
   ]
  },
  {
   "cell_type": "markdown",
   "id": "c041f13f-d011-4996-90fe-8d5cfd9d140f",
   "metadata": {
    "tags": []
   },
   "source": [
    "### Task 2 (30 points):\n",
    "In the cell below your code, add an image from Google images of somewhere inspiring along with a short caption that includes **bold**, *italics* and a link to the webpage that displays this image. Use the following as a guide: https://www.markdownguide.org/basic-syntax/. Remember the image should be saved in the same folder as your answers notebook (i.e. <code>/geospatial-data-science/labs/lab1/</code>).\n",
    "\n",
    "Once you have done this, save and close your answers notebook."
   ]
  },
  {
   "cell_type": "markdown",
   "id": "5c07cc32-fa8c-4308-a368-e761be811c7d",
   "metadata": {},
   "source": [
    "Picture below is **The Caño Cristales** river in _La Macarena, Colombia_. To find out more about this cool river and why it contains a multitude of colors, click this link: https://www.travelandleisure.com/trip-ideas/nature-travel/cano-cristales-rainbow-river-colombia\n",
    "\n",
    "![Biology has its place in Earth Science, too!](rainbow_river_image.jpeg \"The Caño Cristales\")"
   ]
  },
  {
   "cell_type": "markdown",
   "id": "bc47522c-f658-4115-aeb6-3f496bc55469",
   "metadata": {},
   "source": [
    "### Task 3 (10 points):\n",
    "\n",
    "Send me a direct message on **Slack** with a link to your GitHub profile page."
   ]
  }
 ],
 "metadata": {
  "authors": [
   {
    "name": "Jon Sheppard"
   }
  ],
  "kernelspec": {
   "display_name": "Python 3 (ipykernel)",
   "language": "python",
   "name": "python3"
  },
  "language_info": {
   "codemirror_mode": {
    "name": "ipython",
    "version": 3
   },
   "file_extension": ".py",
   "mimetype": "text/x-python",
   "name": "python",
   "nbconvert_exporter": "python",
   "pygments_lexer": "ipython3",
   "version": "3.8.12"
  },
  "toc-showcode": false,
  "toc-showtags": true
 },
 "nbformat": 4,
 "nbformat_minor": 5
}
